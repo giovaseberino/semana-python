{
 "cells": [
  {
   "cell_type": "markdown",
   "id": "dfb227cf",
   "metadata": {},
   "source": [
    "# Primeiro Projeto - Sistema de Orçamentos"
   ]
  },
  {
   "cell_type": "markdown",
   "id": "58661c7d",
   "metadata": {},
   "source": [
    "## Mostrando dados para o usuário"
   ]
  },
  {
   "cell_type": "code",
   "execution_count": 4,
   "id": "10f96b1d",
   "metadata": {},
   "outputs": [
    {
     "name": "stdout",
     "output_type": "stream",
     "text": [
      "Orçamento gerado com sucesso!\n",
      "Semana do Python na prática\n",
      "Eu vou aprender a programar em Python, custe o que custar!\n"
     ]
    }
   ],
   "source": [
    "print(\"Orçamento gerado com sucesso!\")\n",
    "print(\"Semana do Python na prática\")\n",
    "print(\"Eu vou aprender a programar em Python, custe o que custar!\")"
   ]
  },
  {
   "cell_type": "markdown",
   "id": "c986ab74",
   "metadata": {},
   "source": [
    "## Entrada de dados do usuário."
   ]
  },
  {
   "cell_type": "code",
   "execution_count": 5,
   "id": "e725686c",
   "metadata": {},
   "outputs": [
    {
     "name": "stdout",
     "output_type": "stream",
     "text": [
      "Digite a descrição do projeto: Desenvolvimento Python\n",
      "Digite a quantidade de horas previstas: 200\n",
      "Digite o valor da hora trabalhada: 150\n",
      "Digite o prazo: 3 meses\n"
     ]
    },
    {
     "data": {
      "text/plain": [
       "'3 meses'"
      ]
     },
     "execution_count": 5,
     "metadata": {},
     "output_type": "execute_result"
    }
   ],
   "source": [
    "input(\"Digite a descrição do projeto: \")\n",
    "input(\"Digite a quantidade de horas previstas: \")\n",
    "input(\"Digite o valor da hora trabalhada: \")\n",
    "input(\"Digite o prazo: \")"
   ]
  },
  {
   "cell_type": "markdown",
   "id": "28a0211f",
   "metadata": {},
   "source": [
    "## Armazenando dados com variáveis\n",
    "\n",
    "- tem que fazer sentido\n",
    "- não pode começar com números\n",
    "- não pode ter espaços\n",
    "- não pode ser uma palavra reservada"
   ]
  },
  {
   "cell_type": "code",
   "execution_count": 10,
   "id": "57e4b9f5",
   "metadata": {},
   "outputs": [
    {
     "name": "stdout",
     "output_type": "stream",
     "text": [
      "Digite a descrição do projeto: Desenvolvimento Python\n",
      "Digite a quantidade de horas previstas: 300\n",
      "Valor da hora trabalhada: 200\n",
      "Digite o prazo de entrega: 5 meses\n"
     ]
    }
   ],
   "source": [
    "projeto = input (\"Digite a descrição do projeto: \")\n",
    "horas_previstas = input(\"Digite a quantidade de horas previstas: \")\n",
    "valor_hora = input(\"Valor da hora trabalhada: \")\n",
    "prazo = input(\"Digite o prazo de entrega: \")"
   ]
  },
  {
   "cell_type": "code",
   "execution_count": 12,
   "id": "ed9f95eb",
   "metadata": {},
   "outputs": [
    {
     "name": "stdout",
     "output_type": "stream",
     "text": [
      "Desenvolvimento Python\n",
      "300\n",
      "200\n",
      "5 meses\n"
     ]
    }
   ],
   "source": [
    "print (projeto)\n",
    "print(horas_previstas)\n",
    "print(valor_hora)\n",
    "print(prazo)"
   ]
  },
  {
   "cell_type": "markdown",
   "id": "7d420ee5",
   "metadata": {},
   "source": [
    "## Calculando o valor total do projeto"
   ]
  },
  {
   "cell_type": "code",
   "execution_count": 21,
   "id": "b0e3daeb",
   "metadata": {},
   "outputs": [
    {
     "name": "stdout",
     "output_type": "stream",
     "text": [
      "60000\n"
     ]
    }
   ],
   "source": [
    "valor_total = int(horas_previstas)*int(valor_hora)\n",
    "print(valor_total)"
   ]
  },
  {
   "cell_type": "markdown",
   "id": "2f912b42",
   "metadata": {},
   "source": [
    "## Tipo de dados\n",
    "\n",
    "- textuais - str\n",
    "- númericas - int"
   ]
  },
  {
   "cell_type": "markdown",
   "id": "0551b456",
   "metadata": {},
   "source": [
    "## Conversão de tipos\n",
    "\n",
    "- para texto - str()\n",
    "- para número inteiro - int()"
   ]
  },
  {
   "cell_type": "markdown",
   "id": "c7912f18",
   "metadata": {},
   "source": [
    "## Gerando o PDF do Projeto"
   ]
  },
  {
   "cell_type": "code",
   "execution_count": 23,
   "id": "5b07b462",
   "metadata": {},
   "outputs": [
    {
     "name": "stdout",
     "output_type": "stream",
     "text": [
      "Collecting fpdf\n",
      "  Downloading fpdf-1.7.2.tar.gz (39 kB)\n",
      "  Preparing metadata (setup.py): started\n",
      "  Preparing metadata (setup.py): finished with status 'done'\n",
      "Building wheels for collected packages: fpdf\n",
      "  Building wheel for fpdf (setup.py): started\n",
      "  Building wheel for fpdf (setup.py): finished with status 'done'\n",
      "  Created wheel for fpdf: filename=fpdf-1.7.2-py2.py3-none-any.whl size=40713 sha256=c75cfcb82a33c0cd538287d0c181f495140ec6c3b04210c77cd5247fbe1503f0\n",
      "  Stored in directory: c:\\users\\giova\\appdata\\local\\pip\\cache\\wheels\\65\\4f\\66\\bbda9866da446a72e206d6484cd97381cbc7859a7068541c36\n",
      "Successfully built fpdf\n",
      "Installing collected packages: fpdf\n",
      "Successfully installed fpdf-1.7.2\n"
     ]
    }
   ],
   "source": [
    "!pip install fpdf"
   ]
  },
  {
   "cell_type": "code",
   "execution_count": 25,
   "id": "87b379b4",
   "metadata": {},
   "outputs": [],
   "source": [
    "from fpdf import FPDF"
   ]
  },
  {
   "cell_type": "code",
   "execution_count": 30,
   "id": "f8b79e9d",
   "metadata": {},
   "outputs": [
    {
     "name": "stdout",
     "output_type": "stream",
     "text": [
      "Orçamento gerado com sucesso!\n"
     ]
    }
   ],
   "source": [
    "pdf = FPDF()\n",
    "\n",
    "pdf.add_page()\n",
    "pdf.set_font(\"Arial\")\n",
    "pdf.image(\"template.png\", x=0, y=0)\n",
    "\n",
    "pdf.text(115,145, projeto)\n",
    "pdf.text(115, 160, horas_previstas)\n",
    "pdf.text(115, 175, valor_hora)\n",
    "pdf.text(115, 190, prazo)\n",
    "pdf.text(115,205, str(valor_total))\n",
    "\n",
    "\n",
    "pdf.output(\"Orçamento.pdf\")\n",
    "print(\"Orçamento gerado com sucesso!\")"
   ]
  },
  {
   "cell_type": "code",
   "execution_count": null,
   "id": "12e7e39a",
   "metadata": {},
   "outputs": [],
   "source": []
  }
 ],
 "metadata": {
  "kernelspec": {
   "display_name": "Python 3 (ipykernel)",
   "language": "python",
   "name": "python3"
  },
  "language_info": {
   "codemirror_mode": {
    "name": "ipython",
    "version": 3
   },
   "file_extension": ".py",
   "mimetype": "text/x-python",
   "name": "python",
   "nbconvert_exporter": "python",
   "pygments_lexer": "ipython3",
   "version": "3.11.4"
  }
 },
 "nbformat": 4,
 "nbformat_minor": 5
}
